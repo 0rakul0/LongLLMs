{
 "cells": [
  {
   "cell_type": "markdown",
   "source": [
    "LangChain é uma interface padrão para interagir ocm diferentes tipos de modelos, como por exemplo o ollama.\n",
    "Para ser especifico essa interface é uma que recebe como entrada de uma string e retorna uma string, como um chat"
   ],
   "metadata": {
    "collapsed": false
   },
   "id": "5ac77bc8c698fedf"
  },
  {
   "cell_type": "code",
   "outputs": [],
   "source": [
    "from dotenv import load_dotenv\n",
    "import os\n",
    "\n",
    "load_dotenv()\n",
    "\n",
    "api_key = os.getenv('OPENAI_API_KEY')"
   ],
   "metadata": {
    "collapsed": false,
    "ExecuteTime": {
     "end_time": "2024-05-18T23:12:34.102133Z",
     "start_time": "2024-05-18T23:12:34.073535Z"
    }
   },
   "id": "a9d08bca33166c79",
   "execution_count": 1
  },
  {
   "cell_type": "code",
   "execution_count": 2,
   "id": "initial_id",
   "metadata": {
    "collapsed": true,
    "ExecuteTime": {
     "end_time": "2024-05-18T23:12:35.563013Z",
     "start_time": "2024-05-18T23:12:34.104138Z"
    }
   },
   "outputs": [],
   "source": [
    "from langchain_openai import OpenAI\n",
    "llm = OpenAI()"
   ]
  },
  {
   "cell_type": "code",
   "outputs": [
    {
     "data": {
      "text/plain": "'\\n\\nA memória RAM (Random Access Memory) é um componente fundamental em qualquer computador, sendo responsável por armazenar temporariamente os dados e programas em execução. Sua história teve início na década de 1940, com o surgimento dos primeiros computadores eletrônicos.\\n\\nNos primeiros modelos, a memória era composta por válvulas de vácuo, que armazenavam os dados em forma de impulsos elétricos. Com o avanço da tecnologia, surgiram as memórias de núcleo magnético, que utilizavam pequenos anéis de ferrite para armazenar os dados.\\n\\nNa década de 1970, com o surgimento dos microprocessadores, a memória RAM passou a ser fabricada em chips, utilizando tecnologias como a DRAM (Dynamic Random Access Memory). Essa evolução permitiu o aumento da capacidade de armazenamento e a diminuição do tamanho físico dos componentes.\\n\\nCom o passar dos anos, foram lançadas diversas gerações de memórias RAM, como a SRAM (Static Random Access Memory), a SDRAM (Synchronous Dynamic Random Access Memory)'"
     },
     "execution_count": 3,
     "metadata": {},
     "output_type": "execute_result"
    }
   ],
   "source": [
    "pergunta = 'conte uma historia breve sobre como foi feita a memoria ram'\n",
    "llm.invoke(pergunta)"
   ],
   "metadata": {
    "collapsed": false,
    "ExecuteTime": {
     "end_time": "2024-05-18T23:12:39.425365Z",
     "start_time": "2024-05-18T23:12:35.565014Z"
    }
   },
   "id": "8bcb4e02b6d8954a",
   "execution_count": 3
  },
  {
   "cell_type": "code",
   "outputs": [],
   "source": [],
   "metadata": {
    "collapsed": false
   },
   "id": "79e78604d863fea3"
  }
 ],
 "metadata": {
  "kernelspec": {
   "display_name": "Python 3",
   "language": "python",
   "name": "python3"
  },
  "language_info": {
   "codemirror_mode": {
    "name": "ipython",
    "version": 2
   },
   "file_extension": ".py",
   "mimetype": "text/x-python",
   "name": "python",
   "nbconvert_exporter": "python",
   "pygments_lexer": "ipython2",
   "version": "2.7.6"
  }
 },
 "nbformat": 4,
 "nbformat_minor": 5
}
